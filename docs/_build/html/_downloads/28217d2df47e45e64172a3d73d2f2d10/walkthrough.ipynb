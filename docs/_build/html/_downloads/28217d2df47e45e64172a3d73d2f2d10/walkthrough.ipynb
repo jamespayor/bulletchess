{
  "cells": [
    {
      "cell_type": "markdown",
      "metadata": {},
      "source": [
        "\n# Basic Walkthrough\n\nFirst, lets import everything from :pkg:`bulletchess`\n"
      ]
    },
    {
      "cell_type": "code",
      "execution_count": null,
      "metadata": {
        "collapsed": false
      },
      "outputs": [],
      "source": [
        "from bulletchess import *"
      ]
    },
    {
      "cell_type": "markdown",
      "metadata": {},
      "source": [
        "The :func:`Board()` constructor returns a :class:`Board` representing the starting position.\n\n\n"
      ]
    },
    {
      "cell_type": "code",
      "execution_count": null,
      "metadata": {
        "collapsed": false
      },
      "outputs": [],
      "source": [
        "board = Board()\nboard"
      ]
    },
    {
      "cell_type": "markdown",
      "metadata": {},
      "source": [
        "Other positions can be specified by either using :func:`Board.from_fen()`.\n\n\n"
      ]
    },
    {
      "cell_type": "code",
      "execution_count": null,
      "metadata": {
        "collapsed": false
      },
      "outputs": [],
      "source": [
        "board = Board.from_fen(\"rnbqkbnr/pp1ppppp/8/2p5/4P3/5N2/PPPP1PPP/RNBQKB1R b KQkq - 1 2\")\nprint(board)"
      ]
    },
    {
      "cell_type": "markdown",
      "metadata": {},
      "source": [
        "Or by assigning :class:`Piece` locations manually. We can use :func:`Board.empty()` to start from a clean slate.\n\n\n"
      ]
    },
    {
      "cell_type": "code",
      "execution_count": null,
      "metadata": {
        "collapsed": false
      },
      "outputs": [],
      "source": [
        "board = Board.empty()\nprint(board)"
      ]
    },
    {
      "cell_type": "markdown",
      "metadata": {},
      "source": [
        "And then assign a :class:`Piece` to each :class:`Square`.\n\n\n"
      ]
    },
    {
      "cell_type": "code",
      "execution_count": null,
      "metadata": {
        "collapsed": false
      },
      "outputs": [],
      "source": [
        "board[G2] = Piece(WHITE, KING)\nboard[F2] = Piece(WHITE, PAWN)\nboard[G3] = Piece(WHITE, PAWN)\nboard[H2] = Piece(WHITE, PAWN)\nboard[B3] = Piece(WHITE, ROOK)\n\nboard[F7] = Piece(BLACK, KING)\nboard[D7] = Piece(BLACK, ROOK)\nboard[F6] = Piece(BLACK, PAWN)\nboard[G7] = Piece(BLACK, PAWN)\n\nprint(board)"
      ]
    },
    {
      "cell_type": "markdown",
      "metadata": {},
      "source": [
        "We can get the FEN of this position with :func:`Board.fen()`. We might want to set the halfmove clock\nand fullmove number for this endgame position. Let's also make it black's turn.\n\n"
      ]
    },
    {
      "cell_type": "code",
      "execution_count": null,
      "metadata": {
        "collapsed": false
      },
      "outputs": [],
      "source": [
        "board.halfmove_clock = 3\nboard.fullmove_number = 43\nboard.turn = BLACK\n\nprint(board.fen())"
      ]
    },
    {
      "cell_type": "markdown",
      "metadata": {},
      "source": [
        "For a nicer view of a position, we can use :func:`Board.pretty()`. \nLets try some different :class:`Board.ColorScheme` options too.\n\n"
      ]
    },
    {
      "cell_type": "code",
      "execution_count": null,
      "metadata": {
        "collapsed": false
      },
      "outputs": [],
      "source": [
        "print(board.pretty())\nprint(board.pretty(Board.SLATE))\nprint(board.pretty(Board.GREEN))"
      ]
    },
    {
      "cell_type": "markdown",
      "metadata": {},
      "source": [
        "We can also use :class:`Bitboard` objects to highlight difference squares. \nThis can be used for example in order to show a :class:`Piece`'s possible moves.\n\n"
      ]
    },
    {
      "cell_type": "code",
      "execution_count": null,
      "metadata": {
        "collapsed": false
      },
      "outputs": [],
      "source": [
        "print(board.pretty(board.WALNUT, highlighted_squares= G7.bb(), targeted_squares= Bitboard([G6, G5])))"
      ]
    },
    {
      "cell_type": "markdown",
      "metadata": {},
      "source": [
        "A :class:`Bitboard` is an efficient representation of a set of :class:`Square` values. Indexing a :class:`Board`\nwith a :class:`Color`, :class:`PieceType`, or both returns :class:`Bitboard` of squares with the relevant kind of :class:`Piece`.\n\n"
      ]
    },
    {
      "cell_type": "code",
      "execution_count": null,
      "metadata": {
        "collapsed": false
      },
      "outputs": [],
      "source": [
        "print(board[WHITE])\nprint(board[ROOK])\nprint(board[BLACK, PAWN])"
      ]
    },
    {
      "cell_type": "markdown",
      "metadata": {},
      "source": [
        "We can generate legal :class:`Move` objects for this position with :func:`Board.legal_moves()`\n\n"
      ]
    },
    {
      "cell_type": "code",
      "execution_count": null,
      "metadata": {
        "collapsed": false
      },
      "outputs": [],
      "source": [
        "moves = board.legal_moves()\nprint(moves)"
      ]
    },
    {
      "cell_type": "markdown",
      "metadata": {},
      "source": [
        "Lets move our rook. To perform a move, we use :func:`Board.apply()`. \nMoves can be created manually with the :func:`Move()` constructor.\n\n"
      ]
    },
    {
      "cell_type": "code",
      "execution_count": null,
      "metadata": {
        "collapsed": false
      },
      "outputs": [],
      "source": [
        "selected_move = Move(D7, D3)\nboard.apply(selected_move)\nprint(board.pretty())"
      ]
    },
    {
      "cell_type": "markdown",
      "metadata": {},
      "source": [
        "Oh, but that was a blunder. moves can be undone with `Board.undo()`, which returns\nthe last :class:`Move` applied. Getting the `str` of a :class:`Move` renders the move\nin UCI long algebraic notation.\n\n"
      ]
    },
    {
      "cell_type": "code",
      "execution_count": null,
      "metadata": {
        "collapsed": false
      },
      "outputs": [],
      "source": [
        "print(\"Undoing \" + str(board.undo()))\nprint(board.pretty())"
      ]
    },
    {
      "cell_type": "markdown",
      "metadata": {},
      "source": [
        "Lets run the game through for a bit. Moves can also be constructed from UCI or standard algebraic notation.\n\n"
      ]
    },
    {
      "cell_type": "code",
      "execution_count": null,
      "metadata": {
        "collapsed": false
      },
      "outputs": [],
      "source": [
        "board.apply(Move.from_san(\"g5\", board))\nboard.apply(Move.from_uci(\"h2h4\"))\nboard.apply(Move(G5, H4))\nboard.apply(Move(G3, H4))\nboard.apply(Move.from_san(\"Kg7\", board))\nboard.apply(Move.from_san(\"Rg3\", board))\nprint(board.pretty())"
      ]
    },
    {
      "cell_type": "markdown",
      "metadata": {},
      "source": [
        "Black exposed their king, and is now in check.\n\n"
      ]
    },
    {
      "cell_type": "code",
      "execution_count": null,
      "metadata": {
        "collapsed": false
      },
      "outputs": [],
      "source": [
        "print(board in CHECK)"
      ]
    },
    {
      "cell_type": "markdown",
      "metadata": {},
      "source": [
        "But the game is still ongoing.\n\n"
      ]
    },
    {
      "cell_type": "code",
      "execution_count": null,
      "metadata": {
        "collapsed": false
      },
      "outputs": [],
      "source": [
        "print(board in CHECKMATE)\nprint(board in DRAW)"
      ]
    }
  ],
  "metadata": {
    "kernelspec": {
      "display_name": "Python 3",
      "language": "python",
      "name": "python3"
    },
    "language_info": {
      "codemirror_mode": {
        "name": "ipython",
        "version": 3
      },
      "file_extension": ".py",
      "mimetype": "text/x-python",
      "name": "python",
      "nbconvert_exporter": "python",
      "pygments_lexer": "ipython3",
      "version": "3.13.3"
    }
  },
  "nbformat": 4,
  "nbformat_minor": 0
}